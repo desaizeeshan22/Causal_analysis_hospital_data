{
 "cells": [
  {
   "cell_type": "code",
   "execution_count": 390,
   "metadata": {},
   "outputs": [],
   "source": [
    "import pandas as pd\n",
    "import numpy as np\n",
    "import seaborn as sns\n",
    "import matplotlib.pyplot as plt \n",
    "from matplotlib import style\n",
    "\n",
    "style.use('ggplot')\n"
   ]
  },
  {
   "cell_type": "code",
   "execution_count": 391,
   "metadata": {},
   "outputs": [],
   "source": [
    "import os\n",
    "os.getcwd()\n",
    "os.chdir('C:\\\\Users\\\\desai\\\\Documents')"
   ]
  },
  {
   "cell_type": "code",
   "execution_count": 392,
   "metadata": {},
   "outputs": [],
   "source": [
    "data=pd.read_csv(\"Hospital General Information.csv\",encoding = \"ISO-8859-1\")"
   ]
  },
  {
   "cell_type": "code",
   "execution_count": 393,
   "metadata": {},
   "outputs": [
    {
     "name": "stdout",
     "output_type": "stream",
     "text": [
      "<class 'pandas.core.frame.DataFrame'>\n",
      "RangeIndex: 4812 entries, 0 to 4811\n",
      "Data columns (total 28 columns):\n",
      " #   Column                                                         Non-Null Count  Dtype \n",
      "---  ------                                                         --------------  ----- \n",
      " 0   Provider ID                                                    4812 non-null   int64 \n",
      " 1   Hospital Name                                                  4812 non-null   object\n",
      " 2   Address                                                        4812 non-null   object\n",
      " 3   City                                                           4812 non-null   object\n",
      " 4   State                                                          4812 non-null   object\n",
      " 5   ZIP Code                                                       4812 non-null   int64 \n",
      " 6   County Name                                                    4797 non-null   object\n",
      " 7   Phone Number                                                   4812 non-null   int64 \n",
      " 8   Hospital Type                                                  4812 non-null   object\n",
      " 9   Hospital Ownership                                             4812 non-null   object\n",
      " 10  Emergency Services                                             4812 non-null   object\n",
      " 11  Meets criteria for meaningful use of EHRs                      4669 non-null   object\n",
      " 12  Hospital overall rating                                        4812 non-null   object\n",
      " 13  Hospital overall rating footnote                               1398 non-null   object\n",
      " 14  Mortality national comparison                                  4812 non-null   object\n",
      " 15  Mortality national comparison footnote                         1352 non-null   object\n",
      " 16  Safety of care national comparison                             4812 non-null   object\n",
      " 17  Safety of care national comparison footnote                    2168 non-null   object\n",
      " 18  Readmission national comparison                                4812 non-null   object\n",
      " 19  Readmission national comparison footnote                       1017 non-null   object\n",
      " 20  Patient experience national comparison                         4812 non-null   object\n",
      " 21  Patient experience national comparison footnote                1369 non-null   object\n",
      " 22  Effectiveness of care national comparison                      4812 non-null   object\n",
      " 23  Effectiveness of care national comparison footnote             1202 non-null   object\n",
      " 24  Timeliness of care national comparison                         4812 non-null   object\n",
      " 25  Timeliness of care national comparison footnote                1266 non-null   object\n",
      " 26  Efficient use of medical imaging national comparison           4812 non-null   object\n",
      " 27  Efficient use of medical imaging national comparison footnote  2033 non-null   object\n",
      "dtypes: int64(3), object(25)\n",
      "memory usage: 1.0+ MB\n"
     ]
    }
   ],
   "source": [
    "data.info()"
   ]
  },
  {
   "cell_type": "code",
   "execution_count": 394,
   "metadata": {},
   "outputs": [
    {
     "data": {
      "text/plain": [
       "3                1761\n",
       "Not Available    1245\n",
       "4                 939\n",
       "2                 678\n",
       "1                 107\n",
       "5                  82\n",
       "Name: Hospital overall rating, dtype: int64"
      ]
     },
     "execution_count": 394,
     "metadata": {},
     "output_type": "execute_result"
    }
   ],
   "source": [
    "data['Hospital overall rating'].value_counts()"
   ]
  },
  {
   "cell_type": "code",
   "execution_count": 395,
   "metadata": {},
   "outputs": [
    {
     "data": {
      "text/plain": [
       "2.2676641729010805"
      ]
     },
     "execution_count": 395,
     "metadata": {},
     "output_type": "execute_result"
    }
   ],
   "source": [
    "pd.to_numeric(data['Hospital overall rating'].replace(\"Not Available\",0)).mean() "
   ]
  },
  {
   "cell_type": "code",
   "execution_count": 396,
   "metadata": {},
   "outputs": [],
   "source": [
    "## Replacing the unknown ratings by the average rounded to integer\n",
    "## Casting target variable to numeric for inferences via CausalNex(library requirement)\n",
    "data['Hospital overall rating']=pd.to_numeric(data['Hospital overall rating'].replace(\"Not Available\",2))"
   ]
  },
  {
   "cell_type": "code",
   "execution_count": 397,
   "metadata": {},
   "outputs": [
    {
     "data": {
      "text/plain": [
       "2    1923\n",
       "3    1761\n",
       "4     939\n",
       "1     107\n",
       "5      82\n",
       "Name: Hospital overall rating, dtype: int64"
      ]
     },
     "execution_count": 397,
     "metadata": {},
     "output_type": "execute_result"
    }
   ],
   "source": [
    "data['Hospital overall rating'].value_counts()"
   ]
  },
  {
   "cell_type": "code",
   "execution_count": 398,
   "metadata": {},
   "outputs": [
    {
     "data": {
      "text/plain": [
       "Acute Care Hospitals         3369\n",
       "Critical Access Hospitals    1344\n",
       "Childrens                      99\n",
       "Name: Hospital Type, dtype: int64"
      ]
     },
     "execution_count": 398,
     "metadata": {},
     "output_type": "execute_result"
    }
   ],
   "source": [
    "data['Hospital Type'].value_counts()"
   ]
  },
  {
   "cell_type": "code",
   "execution_count": 399,
   "metadata": {},
   "outputs": [
    {
     "data": {
      "text/plain": [
       "<matplotlib.axes._subplots.AxesSubplot at 0x15421902b38>"
      ]
     },
     "execution_count": 399,
     "metadata": {},
     "output_type": "execute_result"
    },
    {
     "data": {
      "image/png": "[encoded data removed]",
      "text/plain": [
       "<Figure size 1008x432 with 1 Axes>"
      ]
     },
     "metadata": {},
     "output_type": "display_data"
    }
   ],
   "source": [
    "plt.figure(figsize=(14,6))\n",
    "sns.countplot(data=data,x=data['Hospital Type'])"
   ]
  },
  {
   "cell_type": "code",
   "execution_count": 400,
   "metadata": {},
   "outputs": [
    {
     "data": {
      "text/plain": [
       "Voluntary non-profit - Private                 2052\n",
       "Proprietary                                     800\n",
       "Government - Hospital District or Authority     561\n",
       "Voluntary non-profit - Other                    462\n",
       "Government - Local                              407\n",
       "Voluntary non-profit - Church                   343\n",
       "Physician                                        68\n",
       "Government - State                               65\n",
       "Government - Federal                             45\n",
       "Tribal                                            9\n",
       "Name: Hospital Ownership, dtype: int64"
      ]
     },
     "execution_count": 400,
     "metadata": {},
     "output_type": "execute_result"
    }
   ],
   "source": [
    "data['Hospital Ownership'].value_counts()"
   ]
  },
  {
   "cell_type": "code",
   "execution_count": 401,
   "metadata": {},
   "outputs": [
    {
     "data": {
      "text/plain": [
       "<matplotlib.axes._subplots.AxesSubplot at 0x154219028d0>"
      ]
     },
     "execution_count": 401,
     "metadata": {},
     "output_type": "execute_result"
    },
    {
     "data": {
      "image/png": "[encoded data removed]",
      "text/plain": [
       "<Figure size 1008x432 with 1 Axes>"
      ]
     },
     "metadata": {},
     "output_type": "display_data"
    }
   ],
   "source": [
    "plt.figure(figsize=(14,6))\n",
    "sns.countplot(data=data,y=data['Hospital Ownership'],orient='h')"
   ]
  },
  {
   "cell_type": "code",
   "execution_count": 402,
   "metadata": {},
   "outputs": [
    {
     "data": {
      "text/plain": [
       "Yes    4497\n",
       "No      315\n",
       "Name: Emergency Services, dtype: int64"
      ]
     },
     "execution_count": 402,
     "metadata": {},
     "output_type": "execute_result"
    }
   ],
   "source": [
    "data['Emergency Services'].value_counts()"
   ]
  },
  {
   "cell_type": "code",
   "execution_count": 403,
   "metadata": {},
   "outputs": [
    {
     "data": {
      "text/plain": [
       "There are too few measures or measure groups reported to calculate a star rating or measure group score                                        995\n",
       "Data are shown only for hospitals that participate in the Inpatient Quality Reporting (IQR) and Outpatient Quality Reporting (OQR) programs    159\n",
       "This hospitals star rating only includes data reported on inpatient services                                                                  153\n",
       "Data suppressed by CMS for one or more quarters                                                                                                 49\n",
       "Results are not available for this reporting period                                                                                             42\n",
       "Name: Hospital overall rating footnote, dtype: int64"
      ]
     },
     "execution_count": 403,
     "metadata": {},
     "output_type": "execute_result"
    }
   ],
   "source": [
    "data['Hospital overall rating footnote'].value_counts()"
   ]
  },
  {
   "cell_type": "markdown",
   "metadata": {},
   "source": [
    "Dropping all the text data as footnotes do not affect hospital ratings"
   ]
  },
  {
   "cell_type": "code",
   "execution_count": 404,
   "metadata": {},
   "outputs": [],
   "source": [
    "data.drop([x for x in data.columns if 'footnote' in x],axis=1,inplace=True)"
   ]
  },
  {
   "cell_type": "code",
   "execution_count": 405,
   "metadata": {},
   "outputs": [
    {
     "name": "stdout",
     "output_type": "stream",
     "text": [
      "<class 'pandas.core.frame.DataFrame'>\n",
      "RangeIndex: 4812 entries, 0 to 4811\n",
      "Data columns (total 20 columns):\n",
      " #   Column                                                Non-Null Count  Dtype \n",
      "---  ------                                                --------------  ----- \n",
      " 0   Provider ID                                           4812 non-null   int64 \n",
      " 1   Hospital Name                                         4812 non-null   object\n",
      " 2   Address                                               4812 non-null   object\n",
      " 3   City                                                  4812 non-null   object\n",
      " 4   State                                                 4812 non-null   object\n",
      " 5   ZIP Code                                              4812 non-null   int64 \n",
      " 6   County Name                                           4797 non-null   object\n",
      " 7   Phone Number                                          4812 non-null   int64 \n",
      " 8   Hospital Type                                         4812 non-null   object\n",
      " 9   Hospital Ownership                                    4812 non-null   object\n",
      " 10  Emergency Services                                    4812 non-null   object\n",
      " 11  Meets criteria for meaningful use of EHRs             4669 non-null   object\n",
      " 12  Hospital overall rating                               4812 non-null   int64 \n",
      " 13  Mortality national comparison                         4812 non-null   object\n",
      " 14  Safety of care national comparison                    4812 non-null   object\n",
      " 15  Readmission national comparison                       4812 non-null   object\n",
      " 16  Patient experience national comparison                4812 non-null   object\n",
      " 17  Effectiveness of care national comparison             4812 non-null   object\n",
      " 18  Timeliness of care national comparison                4812 non-null   object\n",
      " 19  Efficient use of medical imaging national comparison  4812 non-null   object\n",
      "dtypes: int64(4), object(16)\n",
      "memory usage: 752.0+ KB\n"
     ]
    }
   ],
   "source": [
    "data.info()"
   ]
  },
  {
   "cell_type": "markdown",
   "metadata": {},
   "source": [
    "I have not retained geographical indicators as my use case assumes homogenity of hospital characteristics for the entire USA"
   ]
  },
  {
   "cell_type": "code",
   "execution_count": 406,
   "metadata": {},
   "outputs": [],
   "source": [
    "data.drop(['Provider ID','Hospital Name','Address','ZIP Code','County Name','Phone Number'],axis=1,inplace=True)\n"
   ]
  },
  {
   "cell_type": "code",
   "execution_count": 407,
   "metadata": {},
   "outputs": [],
   "source": [
    "data.drop(['City','State'],axis=1,inplace=True)"
   ]
  },
  {
   "cell_type": "code",
   "execution_count": 408,
   "metadata": {},
   "outputs": [
    {
     "name": "stdout",
     "output_type": "stream",
     "text": [
      "<class 'pandas.core.frame.DataFrame'>\n",
      "RangeIndex: 4812 entries, 0 to 4811\n",
      "Data columns (total 12 columns):\n",
      " #   Column                                                Non-Null Count  Dtype \n",
      "---  ------                                                --------------  ----- \n",
      " 0   Hospital Type                                         4812 non-null   object\n",
      " 1   Hospital Ownership                                    4812 non-null   object\n",
      " 2   Emergency Services                                    4812 non-null   object\n",
      " 3   Meets criteria for meaningful use of EHRs             4669 non-null   object\n",
      " 4   Hospital overall rating                               4812 non-null   int64 \n",
      " 5   Mortality national comparison                         4812 non-null   object\n",
      " 6   Safety of care national comparison                    4812 non-null   object\n",
      " 7   Readmission national comparison                       4812 non-null   object\n",
      " 8   Patient experience national comparison                4812 non-null   object\n",
      " 9   Effectiveness of care national comparison             4812 non-null   object\n",
      " 10  Timeliness of care national comparison                4812 non-null   object\n",
      " 11  Efficient use of medical imaging national comparison  4812 non-null   object\n",
      "dtypes: int64(1), object(11)\n",
      "memory usage: 451.2+ KB\n"
     ]
    }
   ],
   "source": [
    "data.info()\n",
    "## only one column aka Meets criteria for meaningful use of Electronic Health Records has missing values"
   ]
  },
  {
   "cell_type": "code",
   "execution_count": 409,
   "metadata": {},
   "outputs": [],
   "source": [
    "data['Meets criteria for meaningful use of EHRs'].fillna('N',inplace=True)"
   ]
  },
  {
   "cell_type": "code",
   "execution_count": 410,
   "metadata": {},
   "outputs": [
    {
     "data": {
      "text/plain": [
       "Y                4668\n",
       "N                 143\n",
       "Not Available       1\n",
       "Name: Meets criteria for meaningful use of EHRs, dtype: int64"
      ]
     },
     "execution_count": 410,
     "metadata": {},
     "output_type": "execute_result"
    }
   ],
   "source": [
    "data['Meets criteria for meaningful use of EHRs'].value_counts()"
   ]
  },
  {
   "cell_type": "code",
   "execution_count": 411,
   "metadata": {},
   "outputs": [],
   "source": [
    "data['Meets criteria for meaningful use of EHRs'].replace('Not Available','N',inplace=True)"
   ]
  },
  {
   "cell_type": "code",
   "execution_count": 412,
   "metadata": {},
   "outputs": [
    {
     "data": {
      "text/plain": [
       "Y    4668\n",
       "N     144\n",
       "Name: Meets criteria for meaningful use of EHRs, dtype: int64"
      ]
     },
     "execution_count": 412,
     "metadata": {},
     "output_type": "execute_result"
    }
   ],
   "source": [
    "data['Meets criteria for meaningful use of EHRs'].value_counts()"
   ]
  },
  {
   "cell_type": "code",
   "execution_count": 413,
   "metadata": {},
   "outputs": [
    {
     "data": {
      "text/plain": [
       "Same as the national average    2119\n",
       "Not Available                   1017\n",
       "Below the national average       866\n",
       "Above the national average       810\n",
       "Name: Readmission national comparison, dtype: int64"
      ]
     },
     "execution_count": 413,
     "metadata": {},
     "output_type": "execute_result"
    }
   ],
   "source": [
    "data['Readmission national comparison'].value_counts()"
   ]
  },
  {
   "cell_type": "code",
   "execution_count": 414,
   "metadata": {},
   "outputs": [],
   "source": [
    "data['Readmission national comparison'].replace(\"Not Available\",\"Same as the national average\" ,inplace=True)"
   ]
  },
  {
   "cell_type": "code",
   "execution_count": 415,
   "metadata": {},
   "outputs": [
    {
     "name": "stdout",
     "output_type": "stream",
     "text": [
      "<class 'pandas.core.frame.DataFrame'>\n",
      "RangeIndex: 4812 entries, 0 to 4811\n",
      "Data columns (total 12 columns):\n",
      " #   Column                                                Non-Null Count  Dtype \n",
      "---  ------                                                --------------  ----- \n",
      " 0   Hospital Type                                         4812 non-null   object\n",
      " 1   Hospital Ownership                                    4812 non-null   object\n",
      " 2   Emergency Services                                    4812 non-null   object\n",
      " 3   Meets criteria for meaningful use of EHRs             4812 non-null   object\n",
      " 4   Hospital overall rating                               4812 non-null   int64 \n",
      " 5   Mortality national comparison                         4812 non-null   object\n",
      " 6   Safety of care national comparison                    4812 non-null   object\n",
      " 7   Readmission national comparison                       4812 non-null   object\n",
      " 8   Patient experience national comparison                4812 non-null   object\n",
      " 9   Effectiveness of care national comparison             4812 non-null   object\n",
      " 10  Timeliness of care national comparison                4812 non-null   object\n",
      " 11  Efficient use of medical imaging national comparison  4812 non-null   object\n",
      "dtypes: int64(1), object(11)\n",
      "memory usage: 451.2+ KB\n"
     ]
    }
   ],
   "source": [
    "data.info()"
   ]
  },
  {
   "cell_type": "code",
   "execution_count": 416,
   "metadata": {},
   "outputs": [
    {
     "data": {
      "text/plain": [
       "Same as the national average    2719\n",
       "Not Available                   1352\n",
       "Above the national average       400\n",
       "Below the national average       341\n",
       "Name: Mortality national comparison, dtype: int64"
      ]
     },
     "execution_count": 416,
     "metadata": {},
     "output_type": "execute_result"
    }
   ],
   "source": [
    "data['Mortality national comparison'].value_counts()"
   ]
  },
  {
   "cell_type": "code",
   "execution_count": 417,
   "metadata": {},
   "outputs": [],
   "source": [
    "data['Mortality national comparison'].replace(\"Not Available\",\"Same as the national average\" ,inplace=True)"
   ]
  },
  {
   "cell_type": "code",
   "execution_count": 418,
   "metadata": {},
   "outputs": [
    {
     "data": {
      "text/plain": [
       "Same as the national average    4071\n",
       "Above the national average       400\n",
       "Below the national average       341\n",
       "Name: Mortality national comparison, dtype: int64"
      ]
     },
     "execution_count": 418,
     "metadata": {},
     "output_type": "execute_result"
    }
   ],
   "source": [
    "data['Mortality national comparison'].value_counts()"
   ]
  },
  {
   "cell_type": "code",
   "execution_count": 419,
   "metadata": {},
   "outputs": [
    {
     "data": {
      "text/plain": [
       "Not Available                   2168\n",
       "Same as the national average    1194\n",
       "Above the national average       786\n",
       "Below the national average       664\n",
       "Name: Safety of care national comparison, dtype: int64"
      ]
     },
     "execution_count": 419,
     "metadata": {},
     "output_type": "execute_result"
    }
   ],
   "source": [
    "data['Safety of care national comparison'].value_counts()"
   ]
  },
  {
   "cell_type": "code",
   "execution_count": 420,
   "metadata": {},
   "outputs": [],
   "source": [
    "data['Safety of care national comparison'].replace(\"Not Available\",\"Same as the national average\" ,inplace=True)"
   ]
  },
  {
   "cell_type": "code",
   "execution_count": 421,
   "metadata": {},
   "outputs": [
    {
     "data": {
      "text/plain": [
       "Same as the national average    3362\n",
       "Above the national average       786\n",
       "Below the national average       664\n",
       "Name: Safety of care national comparison, dtype: int64"
      ]
     },
     "execution_count": 421,
     "metadata": {},
     "output_type": "execute_result"
    }
   ],
   "source": [
    "data['Safety of care national comparison'].value_counts()"
   ]
  },
  {
   "cell_type": "code",
   "execution_count": 422,
   "metadata": {},
   "outputs": [],
   "source": [
    "data['Patient experience national comparison'].replace(\"Not Available\",\"Same as the national average\" ,inplace=True)"
   ]
  },
  {
   "cell_type": "code",
   "execution_count": 423,
   "metadata": {},
   "outputs": [
    {
     "name": "stdout",
     "output_type": "stream",
     "text": [
      "<class 'pandas.core.frame.DataFrame'>\n",
      "RangeIndex: 4812 entries, 0 to 4811\n",
      "Data columns (total 12 columns):\n",
      " #   Column                                                Non-Null Count  Dtype \n",
      "---  ------                                                --------------  ----- \n",
      " 0   Hospital Type                                         4812 non-null   object\n",
      " 1   Hospital Ownership                                    4812 non-null   object\n",
      " 2   Emergency Services                                    4812 non-null   object\n",
      " 3   Meets criteria for meaningful use of EHRs             4812 non-null   object\n",
      " 4   Hospital overall rating                               4812 non-null   int64 \n",
      " 5   Mortality national comparison                         4812 non-null   object\n",
      " 6   Safety of care national comparison                    4812 non-null   object\n",
      " 7   Readmission national comparison                       4812 non-null   object\n",
      " 8   Patient experience national comparison                4812 non-null   object\n",
      " 9   Effectiveness of care national comparison             4812 non-null   object\n",
      " 10  Timeliness of care national comparison                4812 non-null   object\n",
      " 11  Efficient use of medical imaging national comparison  4812 non-null   object\n",
      "dtypes: int64(1), object(11)\n",
      "memory usage: 451.2+ KB\n"
     ]
    }
   ],
   "source": [
    "data.info()"
   ]
  },
  {
   "cell_type": "markdown",
   "metadata": {},
   "source": [
    "For the remaining metrics"
   ]
  },
  {
   "cell_type": "code",
   "execution_count": 424,
   "metadata": {},
   "outputs": [],
   "source": [
    "for x in data.columns[8:13]:\n",
    "    data[x].replace(\"Not Available\",\"Same as the national average\" ,inplace=True)"
   ]
  },
  {
   "cell_type": "code",
   "execution_count": 425,
   "metadata": {},
   "outputs": [
    {
     "name": "stdout",
     "output_type": "stream",
     "text": [
      "Same as the national average    2517\n",
      "Above the national average      1214\n",
      "Below the national average      1081\n",
      "Name: Patient experience national comparison, dtype: int64\n",
      "Same as the national average    4440\n",
      "Below the national average       242\n",
      "Above the national average       130\n",
      "Name: Effectiveness of care national comparison, dtype: int64\n",
      "Same as the national average    2820\n",
      "Above the national average      1088\n",
      "Below the national average       904\n",
      "Name: Timeliness of care national comparison, dtype: int64\n",
      "Same as the national average    4084\n",
      "Below the national average       370\n",
      "Above the national average       358\n",
      "Name: Efficient use of medical imaging national comparison, dtype: int64\n"
     ]
    }
   ],
   "source": [
    "for x in data.columns[8:13]:\n",
    "     print(data[x].value_counts())"
   ]
  },
  {
   "cell_type": "code",
   "execution_count": 426,
   "metadata": {},
   "outputs": [],
   "source": [
    "from sklearn.preprocessing import LabelEncoder\n",
    "\n",
    "non_numeric_columns = list(data.select_dtypes(exclude=[np.number]).columns)\n",
    "Causal_data=data.copy()"
   ]
  },
  {
   "cell_type": "code",
   "execution_count": 427,
   "metadata": {},
   "outputs": [],
   "source": [
    "le = LabelEncoder()\n",
    "for col in non_numeric_columns:\n",
    "    Causal_data[col] = le.fit_transform(Causal_data[col])"
   ]
  },
  {
   "cell_type": "code",
   "execution_count": 428,
   "metadata": {},
   "outputs": [],
   "source": [
    "Causal_data.to_csv(\"CAUSAL_DATA.csv\")"
   ]
  },
  {
   "cell_type": "code",
   "execution_count": 429,
   "metadata": {},
   "outputs": [],
   "source": [
    "data=pd.get_dummies(data,columns=['Meets criteria for meaningful use of EHRs'],prefix='MEETSCRITERIA_',drop_first=True)"
   ]
  },
  {
   "cell_type": "code",
   "execution_count": 430,
   "metadata": {},
   "outputs": [
    {
     "data": {
      "text/plain": [
       "0       1\n",
       "1       1\n",
       "2       1\n",
       "3       1\n",
       "4       1\n",
       "       ..\n",
       "4807    0\n",
       "4808    1\n",
       "4809    1\n",
       "4810    0\n",
       "4811    1\n",
       "Name: MEETSCRITERIA__Y, Length: 4812, dtype: uint8"
      ]
     },
     "execution_count": 430,
     "metadata": {},
     "output_type": "execute_result"
    }
   ],
   "source": [
    "data['MEETSCRITERIA__Y'] ## 'MEETSCRITERIA__Y' Meets criteria for meaningful use of EHRs Yes or No? 1-Yes,0-No"
   ]
  },
  {
   "cell_type": "code",
   "execution_count": 431,
   "metadata": {},
   "outputs": [],
   "source": [
    "data=pd.get_dummies(data,columns=['Mortality national comparison'],prefix='MORTALITY_',drop_first=True)"
   ]
  },
  {
   "cell_type": "code",
   "execution_count": 432,
   "metadata": {},
   "outputs": [],
   "source": [
    "data=pd.get_dummies(data,columns=['Safety of care national comparison'],prefix='SAFETY_',drop_first=True)"
   ]
  },
  {
   "cell_type": "code",
   "execution_count": 433,
   "metadata": {},
   "outputs": [],
   "source": [
    "data=pd.get_dummies(data,columns=['Readmission national comparison'],prefix='READMISSION_',drop_first=True)"
   ]
  },
  {
   "cell_type": "code",
   "execution_count": 434,
   "metadata": {},
   "outputs": [],
   "source": [
    "data=pd.get_dummies(data,columns=['Patient experience national comparison'],prefix='PATEXPERIENCE_',drop_first=True)"
   ]
  },
  {
   "cell_type": "code",
   "execution_count": 435,
   "metadata": {},
   "outputs": [],
   "source": [
    "data=pd.get_dummies(data,columns=['Effectiveness of care national comparison'],prefix='EFFECTIVE_CARE_',drop_first=True)"
   ]
  },
  {
   "cell_type": "code",
   "execution_count": 436,
   "metadata": {},
   "outputs": [],
   "source": [
    "data=pd.get_dummies(data,columns=['Timeliness of care national comparison'],prefix='TIMELINESS_CARE_',drop_first=True)"
   ]
  },
  {
   "cell_type": "code",
   "execution_count": 437,
   "metadata": {},
   "outputs": [],
   "source": [
    "data=pd.get_dummies(data,columns=['Efficient use of medical imaging national comparison'],prefix='MEDICALIMAGING_',drop_first=True)"
   ]
  },
  {
   "cell_type": "code",
   "execution_count": 438,
   "metadata": {},
   "outputs": [],
   "source": [
    "data=pd.get_dummies(data,columns=['Hospital Type'],prefix='HOSPITALTYPE_',drop_first=True)"
   ]
  },
  {
   "cell_type": "code",
   "execution_count": 439,
   "metadata": {},
   "outputs": [],
   "source": [
    "data=pd.get_dummies(data,columns=['Hospital Ownership'],prefix='OWNERSHIP_',drop_first=True)"
   ]
  },
  {
   "cell_type": "code",
   "execution_count": 440,
   "metadata": {},
   "outputs": [],
   "source": [
    "data=pd.get_dummies(data,columns=['Emergency Services'],prefix='EMERGENCYSERVICE_',drop_first=True)"
   ]
  },
  {
   "cell_type": "code",
   "execution_count": 441,
   "metadata": {},
   "outputs": [
    {
     "name": "stdout",
     "output_type": "stream",
     "text": [
      "<class 'pandas.core.frame.DataFrame'>\n",
      "RangeIndex: 4812 entries, 0 to 4811\n",
      "Data columns (total 28 columns):\n",
      " #   Column                                                  Non-Null Count  Dtype\n",
      "---  ------                                                  --------------  -----\n",
      " 0   Hospital overall rating                                 4812 non-null   int64\n",
      " 1   MEETSCRITERIA__Y                                        4812 non-null   uint8\n",
      " 2   MORTALITY__Below the national average                   4812 non-null   uint8\n",
      " 3   MORTALITY__Same as the national average                 4812 non-null   uint8\n",
      " 4   SAFETY__Below the national average                      4812 non-null   uint8\n",
      " 5   SAFETY__Same as the national average                    4812 non-null   uint8\n",
      " 6   READMISSION__Below the national average                 4812 non-null   uint8\n",
      " 7   READMISSION__Same as the national average               4812 non-null   uint8\n",
      " 8   PATEXPERIENCE__Below the national average               4812 non-null   uint8\n",
      " 9   PATEXPERIENCE__Same as the national average             4812 non-null   uint8\n",
      " 10  EFFECTIVE_CARE__Below the national average              4812 non-null   uint8\n",
      " 11  EFFECTIVE_CARE__Same as the national average            4812 non-null   uint8\n",
      " 12  TIMELINESS_CARE__Below the national average             4812 non-null   uint8\n",
      " 13  TIMELINESS_CARE__Same as the national average           4812 non-null   uint8\n",
      " 14  MEDICALIMAGING__Below the national average              4812 non-null   uint8\n",
      " 15  MEDICALIMAGING__Same as the national average            4812 non-null   uint8\n",
      " 16  HOSPITALTYPE__Childrens                                 4812 non-null   uint8\n",
      " 17  HOSPITALTYPE__Critical Access Hospitals                 4812 non-null   uint8\n",
      " 18  OWNERSHIP__Government - Hospital District or Authority  4812 non-null   uint8\n",
      " 19  OWNERSHIP__Government - Local                           4812 non-null   uint8\n",
      " 20  OWNERSHIP__Government - State                           4812 non-null   uint8\n",
      " 21  OWNERSHIP__Physician                                    4812 non-null   uint8\n",
      " 22  OWNERSHIP__Proprietary                                  4812 non-null   uint8\n",
      " 23  OWNERSHIP__Tribal                                       4812 non-null   uint8\n",
      " 24  OWNERSHIP__Voluntary non-profit - Church                4812 non-null   uint8\n",
      " 25  OWNERSHIP__Voluntary non-profit - Other                 4812 non-null   uint8\n",
      " 26  OWNERSHIP__Voluntary non-profit - Private               4812 non-null   uint8\n",
      " 27  EMERGENCYSERVICE__Yes                                   4812 non-null   uint8\n",
      "dtypes: int64(1), uint8(27)\n",
      "memory usage: 164.6 KB\n"
     ]
    }
   ],
   "source": [
    " data.info()"
   ]
  },
  {
   "cell_type": "code",
   "execution_count": 443,
   "metadata": {},
   "outputs": [],
   "source": [
    "data.to_csv(\"PREPROCESSED_HOSPITAL_FIN2.csv\")"
   ]
  },
  {
   "cell_type": "code",
   "execution_count": 310,
   "metadata": {},
   "outputs": [],
   "source": [
    "X=data.drop(['Hospital overall rating'],axis=1)\n",
    "y=data['Hospital overall rating']"
   ]
  },
  {
   "cell_type": "code",
   "execution_count": 315,
   "metadata": {},
   "outputs": [],
   "source": [
    "import statsmodels.api as sm"
   ]
  },
  {
   "cell_type": "code",
   "execution_count": 445,
   "metadata": {},
   "outputs": [],
   "source": [
    "Xc=sm.add_constant(X)"
   ]
  },
  {
   "cell_type": "code",
   "execution_count": 447,
   "metadata": {},
   "outputs": [
    {
     "name": "stdout",
     "output_type": "stream",
     "text": [
      "Optimization terminated successfully.    (Exit mode 0)\n",
      "            Current function value: 0.6896712481325246\n",
      "            Iterations: 830\n",
      "            Function evaluations: 830\n",
      "            Gradient evaluations: 830\n",
      "                             MNLogit Regression Results                            \n",
      "===================================================================================\n",
      "Dep. Variable:     Hospital overall rating   No. Observations:                 4812\n",
      "Model:                             MNLogit   Df Residuals:                     4700\n",
      "Method:                                MLE   Df Model:                          108\n",
      "Date:                     Sun, 08 Nov 2020   Pseudo R-squ.:                  0.4288\n",
      "Time:                             00:41:00   Log-Likelihood:                -3318.7\n",
      "converged:                            True   LL-Null:                       -5809.6\n",
      "Covariance Type:                 nonrobust   LLR p-value:                     0.000\n",
      "==========================================================================================================================\n",
      "                             Hospital overall rating=2       coef    std err          z      P>|z|      [0.025      0.975]\n",
      "--------------------------------------------------------------------------------------------------------------------------\n",
      "const                                                     26.9680     52.953      0.509      0.611     -76.817     130.754\n",
      "MEETSCRITERIA__Y                                          -5.7312     40.792     -0.140      0.888     -85.681      74.219\n",
      "MORTALITY__Below the national average                     -2.3105      0.511     -4.522      0.000      -3.312      -1.309\n",
      "MORTALITY__Same as the national average                   -0.7838      0.411     -1.908      0.056      -1.589       0.021\n",
      "SAFETY__Below the national average                        -2.4808      0.489     -5.072      0.000      -3.440      -1.522\n",
      "SAFETY__Same as the national average                      -0.0255      0.541     -0.047      0.962      -1.085       1.034\n",
      "READMISSION__Below the national average                   -3.5371      1.076     -3.287      0.001      -5.646      -1.428\n",
      "READMISSION__Same as the national average                 -1.7815      1.098     -1.623      0.105      -3.933       0.370\n",
      "PATEXPERIENCE__Below the national average                -10.1004     32.445     -0.311      0.756     -73.691      53.490\n",
      "PATEXPERIENCE__Same as the national average               -7.6884     32.448     -0.237      0.813     -71.285      55.908\n",
      "EFFECTIVE_CARE__Below the national average                -0.7129      0.808     -0.882      0.378      -2.296       0.871\n",
      "EFFECTIVE_CARE__Same as the national average               0.1169      0.754      0.155      0.877      -1.362       1.595\n",
      "TIMELINESS_CARE__Below the national average               -1.8984      0.610     -3.110      0.002      -3.095      -0.702\n",
      "TIMELINESS_CARE__Same as the national average             -0.4649      0.636     -0.731      0.465      -1.712       0.782\n",
      "MEDICALIMAGING__Below the national average                -0.3638      0.535     -0.680      0.497      -1.412       0.685\n",
      "MEDICALIMAGING__Same as the national average              -0.5353      0.396     -1.352      0.176      -1.311       0.240\n",
      "HOSPITALTYPE__Childrens                                   16.6755   2.01e+04      0.001      0.999   -3.95e+04    3.95e+04\n",
      "HOSPITALTYPE__Critical Access Hospitals                   -0.7548      1.188     -0.635      0.525      -3.083       1.574\n",
      "OWNERSHIP__Government - Hospital District or Authority    -2.0083      9.191     -0.219      0.827     -20.022      16.005\n",
      "OWNERSHIP__Government - Local                             -3.7867      9.185     -0.412      0.680     -21.789      14.216\n",
      "OWNERSHIP__Government - State                             -4.8711      9.200     -0.529      0.597     -22.904      13.161\n",
      "OWNERSHIP__Physician                                       2.2441     50.437      0.044      0.965     -96.610     101.098\n",
      "OWNERSHIP__Proprietary                                    -2.9792      9.181     -0.324      0.746     -20.974      15.015\n",
      "OWNERSHIP__Tribal                                          4.1769    343.267      0.012      0.990    -668.614     676.968\n",
      "OWNERSHIP__Voluntary non-profit - Church                  -1.7170      9.197     -0.187      0.852     -19.743      16.309\n",
      "OWNERSHIP__Voluntary non-profit - Other                   -2.3366      9.188     -0.254      0.799     -20.344      15.671\n",
      "OWNERSHIP__Voluntary non-profit - Private                 -2.4386      9.182     -0.266      0.791     -20.434      15.557\n",
      "EMERGENCYSERVICE__Yes                                      0.5201      0.926      0.562      0.574      -1.294       2.334\n",
      "--------------------------------------------------------------------------------------------------------------------------\n",
      "                             Hospital overall rating=3       coef    std err          z      P>|z|      [0.025      0.975]\n",
      "--------------------------------------------------------------------------------------------------------------------------\n",
      "const                                                     31.0719     52.958      0.587      0.557     -72.724     134.868\n",
      "MEETSCRITERIA__Y                                          -3.2237     40.793     -0.079      0.937     -83.177      76.730\n",
      "MORTALITY__Below the national average                     -5.7560      0.561    -10.258      0.000      -6.856      -4.656\n",
      "MORTALITY__Same as the national average                   -2.7022      0.440     -6.137      0.000      -3.565      -1.839\n",
      "SAFETY__Below the national average                        -5.7039      0.516    -11.063      0.000      -6.714      -4.693\n",
      "SAFETY__Same as the national average                      -1.8395      0.553     -3.327      0.001      -2.923      -0.756\n",
      "READMISSION__Below the national average                   -7.3046      1.090     -6.702      0.000      -9.441      -5.168\n",
      "READMISSION__Same as the national average                 -4.4470      1.108     -4.013      0.000      -6.619      -2.275\n",
      "PATEXPERIENCE__Below the national average                -12.1574     32.445     -0.375      0.708     -75.749      51.434\n",
      "PATEXPERIENCE__Same as the national average               -8.8503     32.448     -0.273      0.785     -72.447      54.746\n",
      "EFFECTIVE_CARE__Below the national average                -1.3037      0.862     -1.512      0.130      -2.993       0.386\n",
      "EFFECTIVE_CARE__Same as the national average              -0.3265      0.801     -0.407      0.684      -1.897       1.244\n",
      "TIMELINESS_CARE__Below the national average               -3.4501      0.623     -5.536      0.000      -4.672      -2.229\n",
      "TIMELINESS_CARE__Same as the national average             -1.7501      0.643     -2.724      0.006      -3.010      -0.491\n",
      "MEDICALIMAGING__Below the national average                -0.6312      0.572     -1.104      0.270      -1.752       0.489\n",
      "MEDICALIMAGING__Same as the national average              -0.9825      0.429     -2.288      0.022      -1.824      -0.141\n",
      "HOSPITALTYPE__Childrens                                  -11.5903   1.25e+05  -9.26e-05      1.000   -2.45e+05    2.45e+05\n",
      "HOSPITALTYPE__Critical Access Hospitals                   -2.3881      1.192     -2.004      0.045      -4.724      -0.052\n",
      "OWNERSHIP__Government - Hospital District or Authority    -0.4910      9.201     -0.053      0.957     -18.524      17.542\n",
      "OWNERSHIP__Government - Local                             -2.3998      9.195     -0.261      0.794     -20.422      15.622\n",
      "OWNERSHIP__Government - State                             -3.7035      9.214     -0.402      0.688     -21.763      14.356\n",
      "OWNERSHIP__Physician                                       1.1972     50.441      0.024      0.981     -97.665     100.059\n",
      "OWNERSHIP__Proprietary                                    -1.7767      9.191     -0.193      0.847     -19.791      16.237\n",
      "OWNERSHIP__Tribal                                          3.3121    343.269      0.010      0.992    -669.483     676.107\n",
      "OWNERSHIP__Voluntary non-profit - Church                   0.5051      9.208      0.055      0.956     -17.541      18.552\n",
      "OWNERSHIP__Voluntary non-profit - Other                   -0.2970      9.198     -0.032      0.974     -18.325      17.730\n",
      "OWNERSHIP__Voluntary non-profit - Private                 -0.5426      9.191     -0.059      0.953     -18.557      17.472\n",
      "EMERGENCYSERVICE__Yes                                      2.5385      0.948      2.677      0.007       0.680       4.397\n",
      "--------------------------------------------------------------------------------------------------------------------------\n",
      "                             Hospital overall rating=4       coef    std err          z      P>|z|      [0.025      0.975]\n",
      "--------------------------------------------------------------------------------------------------------------------------\n",
      "const                                                     40.0828     52.966      0.757      0.449     -63.729     143.895\n",
      "MEETSCRITERIA__Y                                          -4.5155     40.794     -0.111      0.912     -84.471      75.440\n",
      "MORTALITY__Below the national average                    -11.4384      0.678    -16.863      0.000     -12.768     -10.109\n",
      "MORTALITY__Same as the national average                   -5.2594      0.493    -10.662      0.000      -6.226      -4.293\n",
      "SAFETY__Below the national average                       -10.1093      0.586    -17.256      0.000     -11.258      -8.961\n",
      "SAFETY__Same as the national average                      -4.0083      0.578     -6.935      0.000      -5.141      -2.876\n",
      "READMISSION__Below the national average                  -12.1226      1.127    -10.755      0.000     -14.332      -9.914\n",
      "READMISSION__Same as the national average                 -6.5684      1.119     -5.872      0.000      -8.761      -4.376\n",
      "PATEXPERIENCE__Below the national average                -16.1461     32.446     -0.498      0.619     -79.739      47.447\n",
      "PATEXPERIENCE__Same as the national average              -11.3156     32.448     -0.349      0.727     -74.912      52.281\n",
      "EFFECTIVE_CARE__Below the national average                -2.0200      0.951     -2.125      0.034      -3.883      -0.156\n",
      "EFFECTIVE_CARE__Same as the national average              -0.3054      0.851     -0.359      0.720      -1.974       1.363\n",
      "TIMELINESS_CARE__Below the national average               -4.0914      0.652     -6.280      0.000      -5.368      -2.814\n",
      "TIMELINESS_CARE__Same as the national average             -2.2337      0.651     -3.430      0.001      -3.510      -0.957\n",
      "MEDICALIMAGING__Below the national average                -1.5986      0.634     -2.521      0.012      -2.841      -0.356\n",
      "MEDICALIMAGING__Same as the national average              -1.0603      0.479     -2.215      0.027      -1.999      -0.122\n",
      "HOSPITALTYPE__Childrens                                   -3.8556   2.19e+04     -0.000      1.000   -4.29e+04    4.28e+04\n",
      "HOSPITALTYPE__Critical Access Hospitals                   -1.7859      1.198     -1.491      0.136      -4.133       0.562\n",
      "OWNERSHIP__Government - Hospital District or Authority    -1.2383      9.227     -0.134      0.893     -19.323      16.846\n",
      "OWNERSHIP__Government - Local                             -3.0316      9.222     -0.329      0.742     -21.106      15.043\n",
      "OWNERSHIP__Government - State                             -4.6743      9.256     -0.505      0.614     -22.816      13.467\n",
      "OWNERSHIP__Physician                                      -0.2531     50.447     -0.005      0.996     -99.128      98.622\n",
      "OWNERSHIP__Proprietary                                    -2.6357      9.217     -0.286      0.775     -20.701      15.429\n",
      "OWNERSHIP__Tribal                                         -6.6422    367.762     -0.018      0.986    -727.443     714.158\n",
      "OWNERSHIP__Voluntary non-profit - Church                   0.1138      9.234      0.012      0.990     -17.985      18.212\n",
      "OWNERSHIP__Voluntary non-profit - Other                   -0.8774      9.224     -0.095      0.924     -18.956      17.201\n",
      "OWNERSHIP__Voluntary non-profit - Private                 -1.0225      9.217     -0.111      0.912     -19.087      17.042\n",
      "EMERGENCYSERVICE__Yes                                      2.8257      0.978      2.888      0.004       0.908       4.743\n",
      "--------------------------------------------------------------------------------------------------------------------------\n",
      "                             Hospital overall rating=5       coef    std err          z      P>|z|      [0.025      0.975]\n",
      "--------------------------------------------------------------------------------------------------------------------------\n",
      "const                                                     37.9429    118.916      0.319      0.750    -195.129     271.014\n",
      "MEETSCRITERIA__Y                                          -6.0433     40.808     -0.148      0.882     -86.026      73.940\n",
      "MORTALITY__Below the national average                    -39.2192   1.23e+05     -0.000      1.000   -2.42e+05    2.42e+05\n",
      "MORTALITY__Same as the national average                   -7.5122      0.616    -12.186      0.000      -8.720      -6.304\n",
      "SAFETY__Below the national average                       -13.3176      0.998    -13.342      0.000     -15.274     -11.361\n",
      "SAFETY__Same as the national average                      -5.6483      0.665     -8.494      0.000      -6.952      -4.345\n",
      "READMISSION__Below the national average                  -16.5846      1.572    -10.548      0.000     -19.666     -13.503\n",
      "READMISSION__Same as the national average                 -9.2112      1.204     -7.652      0.000     -11.571      -6.852\n",
      "PATEXPERIENCE__Below the national average                -34.4628    377.521     -0.091      0.927    -774.391     705.465\n",
      "PATEXPERIENCE__Same as the national average              -13.2291     32.451     -0.408      0.684     -76.831      50.373\n",
      "EFFECTIVE_CARE__Below the national average                -2.1009      1.452     -1.447      0.148      -4.946       0.744\n",
      "EFFECTIVE_CARE__Same as the national average              -0.9601      0.986     -0.974      0.330      -2.893       0.972\n",
      "TIMELINESS_CARE__Below the national average               -4.6229      0.842     -5.492      0.000      -6.273      -2.973\n",
      "TIMELINESS_CARE__Same as the national average             -1.4049      0.743     -1.892      0.059      -2.860       0.051\n",
      "MEDICALIMAGING__Below the national average                -2.4759      0.893     -2.773      0.006      -4.226      -0.726\n",
      "MEDICALIMAGING__Same as the national average              -0.9063      0.634     -1.430      0.153      -2.149       0.336\n",
      "HOSPITALTYPE__Childrens                                   -0.4687   4.22e+04  -1.11e-05      1.000   -8.26e+04    8.26e+04\n",
      "HOSPITALTYPE__Critical Access Hospitals                   -1.9541      1.445     -1.352      0.176      -4.787       0.879\n",
      "OWNERSHIP__Government - Hospital District or Authority     5.3722    106.858      0.050      0.960    -204.066     214.810\n",
      "OWNERSHIP__Government - Local                              3.9549    106.859      0.037      0.970    -205.484     213.394\n",
      "OWNERSHIP__Government - State                              3.0904    106.864      0.029      0.977    -206.359     212.540\n",
      "OWNERSHIP__Physician                                      11.1112    117.805      0.094      0.925    -219.783     242.005\n",
      "OWNERSHIP__Proprietary                                     3.9116    106.856      0.037      0.971    -205.523     213.346\n",
      "OWNERSHIP__Tribal                                         -0.4174   1859.608     -0.000      1.000   -3645.182    3644.347\n",
      "OWNERSHIP__Voluntary non-profit - Church                   7.3432    106.857      0.069      0.945    -202.094     216.780\n",
      "OWNERSHIP__Voluntary non-profit - Other                    5.9626    106.857      0.056      0.956    -203.473     215.398\n",
      "OWNERSHIP__Voluntary non-profit - Private                  5.6242    106.856      0.053      0.958    -203.809     215.057\n",
      "EMERGENCYSERVICE__Yes                                      1.2699      1.104      1.150      0.250      -0.894       3.433\n",
      "==========================================================================================================================\n"
     ]
    }
   ],
   "source": [
    "mlogit = sm.MNLogit(y, Xc)\n",
    "fmlogit = mlogit.fit_regularized(maxiter=100000,trim_mode='auto')\n",
    "\n",
    "print(fmlogit.summary())"
   ]
  },
  {
   "cell_type": "code",
   "execution_count": 444,
   "metadata": {},
   "outputs": [],
   "source": [
    "## Statistically significant interpretaion of Log- Likelihood ratios(Pr(Hosp_rating=5)/Pr(Hosp_rating=1)]) \n",
    "\n",
    "# base case Mortality above national average,safety above national average,readmission above national average,\n",
    "# TIMELINESS_CARE above national average, MEDICALIMAGING__ above national average\n",
    "\n",
    "\n",
    "\n",
    "#  Hospital overall rating=5                                 coef     std err       z         P>|z|      [0.025      0.975]\n",
    "  \n",
    "#MORTALITY__Same as the national average                   -7.5122      0.616    -12.186      0.000      -8.720      -6.304\n",
    "#SAFETY__Below the national average                       -13.3176      0.998    -13.342      0.000     -15.274     -11.361\n",
    "#SAFETY__Same as the national average                      -5.6483      0.665     -8.494      0.000      -6.952      -4.345\n",
    "#READMISSION__Below the national average                  -16.5846      1.572    -10.548      0.000     -19.666     -13.503\n",
    "#READMISSION__Same as the national average                 -9.2112      1.204     -7.652      0.000     -11.571      -6.852\n",
    "\n",
    "#TIMELINESS_CARE__Below the national average               -4.6946      1.018     -4.611      0.000      -6.690      -2.699\n",
    "\n",
    "#MEDICALIMAGING__Below the national average                -2.4759      0.893     -2.773      0.006      -4.226      -0.726\n"
   ]
  },
  {
   "cell_type": "code",
   "execution_count": null,
   "metadata": {},
   "outputs": [],
   "source": [
    "## Plausible conclusions :\n",
    "## increased likelihood of 5 star rating is due to Higher safety offered , \n",
    "## Readmission(Surprisingly readmission is also a factor driving increased ratings,maybe higher \n",
    "## readmission drives increased familiarity with hospital staff hence higher ratings),It can be\n",
    "# that for Timely care provided,quality of Medical Imaging only if the results fall below the national average does\n",
    "## likelihood of a high rating drop"
   ]
  }
 ],
 "metadata": {
  "kernelspec": {
   "display_name": "Python 3",
   "language": "python",
   "name": "python3"
  },
  "language_info": {
   "codemirror_mode": {
    "name": "ipython",
    "version": 3
   },
   "file_extension": ".py",
   "mimetype": "text/x-python",
   "name": "python",
   "nbconvert_exporter": "python",
   "pygments_lexer": "ipython3",
   "version": "3.7.3"
  }
 },
 "nbformat": 4,
 "nbformat_minor": 4
}
